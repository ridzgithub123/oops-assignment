{
 "cells": [
  {
   "cell_type": "code",
   "execution_count": 3,
   "id": "5b773274-126d-4d67-97ad-96b1f7429aea",
   "metadata": {},
   "outputs": [],
   "source": [
    "'''\n",
    "Q1, Create a vehicle class with an init method having instance variables as name_of_vehicle, max_speed\n",
    "and average_of_vehicle.\n",
    "'''\n",
    "class vehicle :\n",
    "    def __init__(self,name_of_vehicle,max_speed,average_of_vehicle):\n",
    "        self.name_of_vehicle1=name_of_vehicle\n",
    "        self.max_speed1=max_speed\n",
    "        self.average_of_vehicle1=average_of_vehicle\n",
    "        \n"
   ]
  },
  {
   "cell_type": "code",
   "execution_count": 4,
   "id": "04510fcc-63e9-4ec6-b7e1-bec18b78b99d",
   "metadata": {},
   "outputs": [],
   "source": [
    "obj=vehicle(\"ZX-10r\",600,250)"
   ]
  },
  {
   "cell_type": "code",
   "execution_count": 5,
   "id": "8b6c860c-9035-4c5d-a8d2-a92cfa1dadc6",
   "metadata": {},
   "outputs": [
    {
     "data": {
      "text/plain": [
       "'ZX-10r'"
      ]
     },
     "execution_count": 5,
     "metadata": {},
     "output_type": "execute_result"
    }
   ],
   "source": [
    "obj.name_of_vehicle1"
   ]
  },
  {
   "cell_type": "code",
   "execution_count": 6,
   "id": "2750a0f0-73f7-497c-8c07-62b153d5c8dd",
   "metadata": {},
   "outputs": [
    {
     "data": {
      "text/plain": [
       "600"
      ]
     },
     "execution_count": 6,
     "metadata": {},
     "output_type": "execute_result"
    }
   ],
   "source": [
    "obj.max_speed1"
   ]
  },
  {
   "cell_type": "code",
   "execution_count": 7,
   "id": "3f18d621-fc79-46a7-949c-4594e9117363",
   "metadata": {},
   "outputs": [
    {
     "data": {
      "text/plain": [
       "250"
      ]
     },
     "execution_count": 7,
     "metadata": {},
     "output_type": "execute_result"
    }
   ],
   "source": [
    "obj.average_of_vehicle1"
   ]
  },
  {
   "cell_type": "code",
   "execution_count": 1,
   "id": "45e82c96-c4ba-41a8-89c0-a8fd2ed2113e",
   "metadata": {},
   "outputs": [
    {
     "name": "stdout",
     "output_type": "stream",
     "text": [
      "Vehicle name: alto Speed: 180 Mileage: 12\n"
     ]
    }
   ],
   "source": [
    "'''\n",
    "Q2. Create a child class car from the vehicle class created in Que 1, which will inherit the vehicle class.\n",
    "Create a method named seating_capacity which takes capacity as an argument and returns the name of\n",
    "the vehicle and its seating capacity.\n",
    "'''\n",
    "class Vehicle:\n",
    "    def __init__(self, name, max_speed, mileage):\n",
    "        self.name = name\n",
    "        self.max_speed = max_speed \n",
    "        self.mileage = mileage\n",
    "class car(Vehicle): \n",
    "    pass\n",
    "car1 = car(\"alto\", 180, 12) \n",
    "print(\"Vehicle name:\",car1.name,\"Speed:\",car1.max_speed,\"Mileage:\",car1.mileage)"
   ]
  },
  {
   "cell_type": "code",
   "execution_count": 29,
   "id": "ce096556-20aa-432e-af01-b508de4c426c",
   "metadata": {},
   "outputs": [
    {
     "name": "stdout",
     "output_type": "stream",
     "text": [
      "In Class4\n",
      "In Class2\n",
      "In Class3\n",
      "In Class1\n"
     ]
    }
   ],
   "source": [
    "# Q3 What is multiple inheritance? Write a python code to demonstrate multiple inheritance.\n",
    "'''\n",
    "Multiple Inheritance \n",
    "When a class is derived from more than one base class it is called multiple Inheritance. \n",
    "The derived class inherits all the features of the base case.\n",
    "'''\n",
    "# Python Program to depict multiple inheritance\n",
    "# when every class defines the same method\n",
    "\n",
    "class Class1:\n",
    "\tdef m(self):\n",
    "\t\tprint(\"In Class1\")\n",
    "\t\n",
    "class Class2(Class1):\n",
    "\tdef m(self):\n",
    "\t\tprint(\"In Class2\")\n",
    "\n",
    "class Class3(Class1):\n",
    "\tdef m(self):\n",
    "\t\tprint(\"In Class3\")\t\n",
    "\t\n",
    "class Class4(Class2, Class3):\n",
    "\tdef m(self):\n",
    "\t\tprint(\"In Class4\")\n",
    "\n",
    "obj = Class4()\n",
    "obj.m()\n",
    "\n",
    "Class2.m(obj)\n",
    "Class3.m(obj)\n",
    "Class1.m(obj)\n"
   ]
  },
  {
   "cell_type": "code",
   "execution_count": 30,
   "id": "3287ca21-0103-4fde-9cc5-27d2b65f97c9",
   "metadata": {},
   "outputs": [
    {
     "name": "stdout",
     "output_type": "stream",
     "text": [
      "19\n",
      "19\n"
     ]
    }
   ],
   "source": [
    "# Q4. What are getter and setter in python? Create a class and create a getter and a setter method in this class.\n",
    "'''\n",
    " Getters and Setters in python are often used when:\n",
    "\n",
    "We use getters & setters to add validation logic around getting and setting a value.\n",
    "To avoid direct access of a class field i.e. private variables cannot be accessed directly or modified by external user.\n",
    "\n",
    "'''\n",
    "\n",
    "class Geek:\n",
    "\tdef __init__(self, age = 0):\n",
    "\t\tself._age = age\n",
    "\t\n",
    "\t# getter method\n",
    "\tdef get_age(self):\n",
    "\t\treturn self._age\n",
    "\t\n",
    "\t# setter method\n",
    "\tdef set_age(self, x):\n",
    "\t\tself._age = x\n",
    "\n",
    "riddhi = Geek()\n",
    "\n",
    "# setting the age using setter\n",
    "riddhi.set_age(19)\n",
    "\n",
    "# retrieving age using getter\n",
    "print(riddhi.get_age())\n",
    "\n",
    "print(riddhi._age)\n"
   ]
  },
  {
   "cell_type": "code",
   "execution_count": 31,
   "id": "8aea3a7e-94f0-4559-b51a-5273f880faf5",
   "metadata": {},
   "outputs": [
    {
     "name": "stdout",
     "output_type": "stream",
     "text": [
      "Inside Parent\n",
      "Inside Child\n"
     ]
    }
   ],
   "source": [
    "#Q5.What is method overriding in python? Write a python code to demonstrate method overriding.\n",
    "'''\n",
    "Method overriding is an ability of any object-oriented programming language that allows a subclass \n",
    "or child class to provide a specific implementation of a method that is already provided by one of\n",
    "its super-classes or parent classes. When a method in a subclass has the same name, same parameters\n",
    "or signature and same return type(or sub-type) as a method in its super-class, then the method in \n",
    "the subclass is said to override the method in the super-class.\n",
    "'''\n",
    "\n",
    "class Parent():\n",
    "\t\n",
    "\n",
    "\tdef __init__(self):\n",
    "\t\tself.value = \"Inside Parent\"\n",
    "\t\t\n",
    "\t\n",
    "\tdef show(self):\n",
    "\t\tprint(self.value)\n",
    "\t\t\n",
    "\n",
    "class Child(Parent):\n",
    "\t\n",
    "\tdef __init__(self):\n",
    "\t\tself.value = \"Inside Child\"\n",
    "\t\n",
    "\tdef show(self):\n",
    "\t\tprint(self.value)\n",
    "\t\t\n",
    "\t\t\n",
    "\n",
    "obj1 = Parent()\n",
    "obj2 = Child()\n",
    "\n",
    "obj1.show()\n",
    "obj2.show()\n",
    "\n"
   ]
  },
  {
   "cell_type": "code",
   "execution_count": null,
   "id": "e67bad15-c04f-4e36-b213-ddc8bdb5d852",
   "metadata": {},
   "outputs": [],
   "source": []
  }
 ],
 "metadata": {
  "kernelspec": {
   "display_name": "Python 3 (ipykernel)",
   "language": "python",
   "name": "python3"
  },
  "language_info": {
   "codemirror_mode": {
    "name": "ipython",
    "version": 3
   },
   "file_extension": ".py",
   "mimetype": "text/x-python",
   "name": "python",
   "nbconvert_exporter": "python",
   "pygments_lexer": "ipython3",
   "version": "3.10.8"
  }
 },
 "nbformat": 4,
 "nbformat_minor": 5
}
